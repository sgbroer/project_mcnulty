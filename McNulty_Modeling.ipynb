{
 "cells": [
  {
   "cell_type": "code",
   "execution_count": 1,
   "metadata": {},
   "outputs": [],
   "source": [
    "## Damien notes\n",
    "## consistencey of importances across models -- linear, forest, tree, linear svm, visualize!\n",
    "## Visualization with matplotlib -- feature importances, correlations\n",
    "## Slope graph"
   ]
  },
  {
   "cell_type": "code",
   "execution_count": 2,
   "metadata": {},
   "outputs": [
    {
     "ename": "OSError",
     "evalue": "'metis' not found in the style library and input is not a valid URL or path; see `style.available` for list of available styles",
     "output_type": "error",
     "traceback": [
      "\u001b[0;31m---------------------------------------------------------------------------\u001b[0m",
      "\u001b[0;31mFileNotFoundError\u001b[0m                         Traceback (most recent call last)",
      "\u001b[0;32m/anaconda3/lib/python3.6/site-packages/matplotlib/style/core.py\u001b[0m in \u001b[0;36muse\u001b[0;34m(style)\u001b[0m\n\u001b[1;32m    110\u001b[0m             \u001b[0;32mtry\u001b[0m\u001b[0;34m:\u001b[0m\u001b[0;34m\u001b[0m\u001b[0m\n\u001b[0;32m--> 111\u001b[0;31m                 \u001b[0mrc\u001b[0m \u001b[0;34m=\u001b[0m \u001b[0mrc_params_from_file\u001b[0m\u001b[0;34m(\u001b[0m\u001b[0mstyle\u001b[0m\u001b[0;34m,\u001b[0m \u001b[0muse_default_template\u001b[0m\u001b[0;34m=\u001b[0m\u001b[0;32mFalse\u001b[0m\u001b[0;34m)\u001b[0m\u001b[0;34m\u001b[0m\u001b[0m\n\u001b[0m\u001b[1;32m    112\u001b[0m                 \u001b[0m_apply_style\u001b[0m\u001b[0;34m(\u001b[0m\u001b[0mrc\u001b[0m\u001b[0;34m)\u001b[0m\u001b[0;34m\u001b[0m\u001b[0m\n",
      "\u001b[0;32m/anaconda3/lib/python3.6/site-packages/matplotlib/__init__.py\u001b[0m in \u001b[0;36mrc_params_from_file\u001b[0;34m(fname, fail_on_error, use_default_template)\u001b[0m\n\u001b[1;32m   1133\u001b[0m     \"\"\"\n\u001b[0;32m-> 1134\u001b[0;31m     \u001b[0mconfig_from_file\u001b[0m \u001b[0;34m=\u001b[0m \u001b[0m_rc_params_in_file\u001b[0m\u001b[0;34m(\u001b[0m\u001b[0mfname\u001b[0m\u001b[0;34m,\u001b[0m \u001b[0mfail_on_error\u001b[0m\u001b[0;34m)\u001b[0m\u001b[0;34m\u001b[0m\u001b[0m\n\u001b[0m\u001b[1;32m   1135\u001b[0m \u001b[0;34m\u001b[0m\u001b[0m\n",
      "\u001b[0;32m/anaconda3/lib/python3.6/site-packages/matplotlib/__init__.py\u001b[0m in \u001b[0;36m_rc_params_in_file\u001b[0;34m(fname, fail_on_error)\u001b[0m\n\u001b[1;32m   1049\u001b[0m     \u001b[0mrc_temp\u001b[0m \u001b[0;34m=\u001b[0m \u001b[0;34m{\u001b[0m\u001b[0;34m}\u001b[0m\u001b[0;34m\u001b[0m\u001b[0m\n\u001b[0;32m-> 1050\u001b[0;31m     \u001b[0;32mwith\u001b[0m \u001b[0m_open_file_or_url\u001b[0m\u001b[0;34m(\u001b[0m\u001b[0mfname\u001b[0m\u001b[0;34m)\u001b[0m \u001b[0;32mas\u001b[0m \u001b[0mfd\u001b[0m\u001b[0;34m:\u001b[0m\u001b[0;34m\u001b[0m\u001b[0m\n\u001b[0m\u001b[1;32m   1051\u001b[0m         \u001b[0;32mtry\u001b[0m\u001b[0;34m:\u001b[0m\u001b[0;34m\u001b[0m\u001b[0m\n",
      "\u001b[0;32m/anaconda3/lib/python3.6/contextlib.py\u001b[0m in \u001b[0;36m__enter__\u001b[0;34m(self)\u001b[0m\n\u001b[1;32m     80\u001b[0m         \u001b[0;32mtry\u001b[0m\u001b[0;34m:\u001b[0m\u001b[0;34m\u001b[0m\u001b[0m\n\u001b[0;32m---> 81\u001b[0;31m             \u001b[0;32mreturn\u001b[0m \u001b[0mnext\u001b[0m\u001b[0;34m(\u001b[0m\u001b[0mself\u001b[0m\u001b[0;34m.\u001b[0m\u001b[0mgen\u001b[0m\u001b[0;34m)\u001b[0m\u001b[0;34m\u001b[0m\u001b[0m\n\u001b[0m\u001b[1;32m     82\u001b[0m         \u001b[0;32mexcept\u001b[0m \u001b[0mStopIteration\u001b[0m\u001b[0;34m:\u001b[0m\u001b[0;34m\u001b[0m\u001b[0m\n",
      "\u001b[0;32m/anaconda3/lib/python3.6/site-packages/matplotlib/__init__.py\u001b[0m in \u001b[0;36m_open_file_or_url\u001b[0;34m(fname)\u001b[0m\n\u001b[1;32m   1034\u001b[0m             \u001b[0mencoding\u001b[0m \u001b[0;34m=\u001b[0m \u001b[0;34m\"utf-8\"\u001b[0m\u001b[0;34m\u001b[0m\u001b[0m\n\u001b[0;32m-> 1035\u001b[0;31m         \u001b[0;32mwith\u001b[0m \u001b[0mio\u001b[0m\u001b[0;34m.\u001b[0m\u001b[0mopen\u001b[0m\u001b[0;34m(\u001b[0m\u001b[0mfname\u001b[0m\u001b[0;34m,\u001b[0m \u001b[0mencoding\u001b[0m\u001b[0;34m=\u001b[0m\u001b[0mencoding\u001b[0m\u001b[0;34m)\u001b[0m \u001b[0;32mas\u001b[0m \u001b[0mf\u001b[0m\u001b[0;34m:\u001b[0m\u001b[0;34m\u001b[0m\u001b[0m\n\u001b[0m\u001b[1;32m   1036\u001b[0m             \u001b[0;32myield\u001b[0m \u001b[0mf\u001b[0m\u001b[0;34m\u001b[0m\u001b[0m\n",
      "\u001b[0;31mFileNotFoundError\u001b[0m: [Errno 2] No such file or directory: 'metis'",
      "\nDuring handling of the above exception, another exception occurred:\n",
      "\u001b[0;31mOSError\u001b[0m                                   Traceback (most recent call last)",
      "\u001b[0;32m<ipython-input-2-83fd219735f5>\u001b[0m in \u001b[0;36m<module>\u001b[0;34m()\u001b[0m\n\u001b[1;32m     12\u001b[0m \u001b[0;32mimport\u001b[0m \u001b[0mmatplotlib\u001b[0m\u001b[0;34m.\u001b[0m\u001b[0mpyplot\u001b[0m \u001b[0;32mas\u001b[0m \u001b[0mplt\u001b[0m\u001b[0;34m\u001b[0m\u001b[0m\n\u001b[1;32m     13\u001b[0m \u001b[0;32mimport\u001b[0m \u001b[0mseaborn\u001b[0m \u001b[0;32mas\u001b[0m \u001b[0msns\u001b[0m\u001b[0;34m\u001b[0m\u001b[0m\n\u001b[0;32m---> 14\u001b[0;31m \u001b[0mplt\u001b[0m\u001b[0;34m.\u001b[0m\u001b[0mstyle\u001b[0m\u001b[0;34m.\u001b[0m\u001b[0muse\u001b[0m\u001b[0;34m(\u001b[0m\u001b[0;34m'metis'\u001b[0m\u001b[0;34m)\u001b[0m\u001b[0;34m\u001b[0m\u001b[0m\n\u001b[0m\u001b[1;32m     15\u001b[0m \u001b[0mget_ipython\u001b[0m\u001b[0;34m(\u001b[0m\u001b[0;34m)\u001b[0m\u001b[0;34m.\u001b[0m\u001b[0mrun_line_magic\u001b[0m\u001b[0;34m(\u001b[0m\u001b[0;34m'matplotlib'\u001b[0m\u001b[0;34m,\u001b[0m \u001b[0;34m'inline'\u001b[0m\u001b[0;34m)\u001b[0m\u001b[0;34m\u001b[0m\u001b[0m\n",
      "\u001b[0;32m/anaconda3/lib/python3.6/site-packages/matplotlib/style/core.py\u001b[0m in \u001b[0;36muse\u001b[0;34m(style)\u001b[0m\n\u001b[1;32m    115\u001b[0m                     \u001b[0;34m\"{!r} not found in the style library and input is not a \"\u001b[0m\u001b[0;34m\u001b[0m\u001b[0m\n\u001b[1;32m    116\u001b[0m                     \u001b[0;34m\"valid URL or path; see `style.available` for list of \"\u001b[0m\u001b[0;34m\u001b[0m\u001b[0m\n\u001b[0;32m--> 117\u001b[0;31m                     \"available styles\".format(style))\n\u001b[0m\u001b[1;32m    118\u001b[0m \u001b[0;34m\u001b[0m\u001b[0m\n\u001b[1;32m    119\u001b[0m \u001b[0;34m\u001b[0m\u001b[0m\n",
      "\u001b[0;31mOSError\u001b[0m: 'metis' not found in the style library and input is not a valid URL or path; see `style.available` for list of available styles"
     ]
    }
   ],
   "source": [
    "import pandas as pd\n",
    "import numpy as np\n",
    "from sklearn.model_selection import train_test_split, GridSearchCV, cross_val_score, learning_curve\n",
    "from sklearn.preprocessing import StandardScaler\n",
    "from sklearn.neighbors import KNeighborsClassifier\n",
    "from sklearn.linear_model import LogisticRegression\n",
    "from sklearn.svm import SVC, LinearSVC\n",
    "from sklearn.tree import DecisionTreeClassifier\n",
    "from sklearn.ensemble import RandomForestClassifier\n",
    "from sklearn.metrics import accuracy_score, classification_report, confusion_matrix\n",
    "from sklearn.naive_bayes import GaussianNB\n",
    "import matplotlib.pyplot as plt\n",
    "import seaborn as sns\n",
    "plt.style.use('metis')\n",
    "% matplotlib inline"
   ]
  },
  {
   "cell_type": "code",
   "execution_count": 5,
   "metadata": {},
   "outputs": [
    {
     "data": {
      "text/html": [
       "<div>\n",
       "<style scoped>\n",
       "    .dataframe tbody tr th:only-of-type {\n",
       "        vertical-align: middle;\n",
       "    }\n",
       "\n",
       "    .dataframe tbody tr th {\n",
       "        vertical-align: top;\n",
       "    }\n",
       "\n",
       "    .dataframe thead th {\n",
       "        text-align: right;\n",
       "    }\n",
       "</style>\n",
       "<table border=\"1\" class=\"dataframe\">\n",
       "  <thead>\n",
       "    <tr style=\"text-align: right;\">\n",
       "      <th></th>\n",
       "      <th>income</th>\n",
       "      <th>educ</th>\n",
       "      <th>oftvote</th>\n",
       "      <th>age</th>\n",
       "      <th>retired</th>\n",
       "      <th>student</th>\n",
       "      <th>employed</th>\n",
       "      <th>sav</th>\n",
       "      <th>econ_ineq</th>\n",
       "      <th>more_engaged_1</th>\n",
       "      <th>...</th>\n",
       "      <th>agnostic</th>\n",
       "      <th>relig_Other</th>\n",
       "      <th>nothing</th>\n",
       "      <th>christian</th>\n",
       "      <th>unitarian</th>\n",
       "      <th>republican</th>\n",
       "      <th>democrat</th>\n",
       "      <th>independent</th>\n",
       "      <th>party_none</th>\n",
       "      <th>party_other</th>\n",
       "    </tr>\n",
       "  </thead>\n",
       "  <tbody>\n",
       "    <tr>\n",
       "      <th>0</th>\n",
       "      <td>3</td>\n",
       "      <td>5</td>\n",
       "      <td>1</td>\n",
       "      <td>68</td>\n",
       "      <td>1</td>\n",
       "      <td>3</td>\n",
       "      <td>2</td>\n",
       "      <td>2</td>\n",
       "      <td>1</td>\n",
       "      <td>0</td>\n",
       "      <td>...</td>\n",
       "      <td>0</td>\n",
       "      <td>0</td>\n",
       "      <td>0</td>\n",
       "      <td>0</td>\n",
       "      <td>0</td>\n",
       "      <td>0</td>\n",
       "      <td>1</td>\n",
       "      <td>0</td>\n",
       "      <td>0</td>\n",
       "      <td>0</td>\n",
       "    </tr>\n",
       "    <tr>\n",
       "      <th>1</th>\n",
       "      <td>9</td>\n",
       "      <td>5</td>\n",
       "      <td>1</td>\n",
       "      <td>56</td>\n",
       "      <td>1</td>\n",
       "      <td>3</td>\n",
       "      <td>3</td>\n",
       "      <td>1</td>\n",
       "      <td>4</td>\n",
       "      <td>1</td>\n",
       "      <td>...</td>\n",
       "      <td>0</td>\n",
       "      <td>0</td>\n",
       "      <td>0</td>\n",
       "      <td>1</td>\n",
       "      <td>0</td>\n",
       "      <td>1</td>\n",
       "      <td>0</td>\n",
       "      <td>0</td>\n",
       "      <td>0</td>\n",
       "      <td>0</td>\n",
       "    </tr>\n",
       "    <tr>\n",
       "      <th>2</th>\n",
       "      <td>5</td>\n",
       "      <td>5</td>\n",
       "      <td>1</td>\n",
       "      <td>52</td>\n",
       "      <td>3</td>\n",
       "      <td>3</td>\n",
       "      <td>1</td>\n",
       "      <td>1</td>\n",
       "      <td>1</td>\n",
       "      <td>1</td>\n",
       "      <td>...</td>\n",
       "      <td>0</td>\n",
       "      <td>0</td>\n",
       "      <td>0</td>\n",
       "      <td>0</td>\n",
       "      <td>0</td>\n",
       "      <td>0</td>\n",
       "      <td>1</td>\n",
       "      <td>0</td>\n",
       "      <td>0</td>\n",
       "      <td>0</td>\n",
       "    </tr>\n",
       "    <tr>\n",
       "      <th>3</th>\n",
       "      <td>5</td>\n",
       "      <td>3</td>\n",
       "      <td>2</td>\n",
       "      <td>71</td>\n",
       "      <td>3</td>\n",
       "      <td>3</td>\n",
       "      <td>1</td>\n",
       "      <td>3</td>\n",
       "      <td>2</td>\n",
       "      <td>0</td>\n",
       "      <td>...</td>\n",
       "      <td>0</td>\n",
       "      <td>0</td>\n",
       "      <td>0</td>\n",
       "      <td>0</td>\n",
       "      <td>0</td>\n",
       "      <td>1</td>\n",
       "      <td>0</td>\n",
       "      <td>0</td>\n",
       "      <td>0</td>\n",
       "      <td>0</td>\n",
       "    </tr>\n",
       "    <tr>\n",
       "      <th>4</th>\n",
       "      <td>8</td>\n",
       "      <td>6</td>\n",
       "      <td>3</td>\n",
       "      <td>58</td>\n",
       "      <td>1</td>\n",
       "      <td>3</td>\n",
       "      <td>3</td>\n",
       "      <td>1</td>\n",
       "      <td>1</td>\n",
       "      <td>1</td>\n",
       "      <td>...</td>\n",
       "      <td>0</td>\n",
       "      <td>0</td>\n",
       "      <td>0</td>\n",
       "      <td>0</td>\n",
       "      <td>0</td>\n",
       "      <td>0</td>\n",
       "      <td>1</td>\n",
       "      <td>0</td>\n",
       "      <td>0</td>\n",
       "      <td>0</td>\n",
       "    </tr>\n",
       "  </tbody>\n",
       "</table>\n",
       "<p>5 rows × 41 columns</p>\n",
       "</div>"
      ],
      "text/plain": [
       "   income  educ  oftvote  age  retired  student  employed  sav  econ_ineq  \\\n",
       "0       3     5        1   68        1        3         2    2          1   \n",
       "1       9     5        1   56        1        3         3    1          4   \n",
       "2       5     5        1   52        3        3         1    1          1   \n",
       "3       5     3        2   71        3        3         1    3          2   \n",
       "4       8     6        3   58        1        3         3    1          1   \n",
       "\n",
       "   more_engaged_1     ...       agnostic  relig_Other  nothing  christian  \\\n",
       "0               0     ...              0            0        0          0   \n",
       "1               1     ...              0            0        0          1   \n",
       "2               1     ...              0            0        0          0   \n",
       "3               0     ...              0            0        0          0   \n",
       "4               1     ...              0            0        0          0   \n",
       "\n",
       "   unitarian  republican  democrat  independent  party_none  party_other  \n",
       "0          0           0         1            0           0            0  \n",
       "1          0           1         0            0           0            0  \n",
       "2          0           0         1            0           0            0  \n",
       "3          0           1         0            0           0            0  \n",
       "4          0           0         1            0           0            0  \n",
       "\n",
       "[5 rows x 41 columns]"
      ]
     },
     "execution_count": 5,
     "metadata": {},
     "output_type": "execute_result"
    }
   ],
   "source": [
    "df = pd.read_pickle('03_mvp_pickle.pkl')\n",
    "df.head()"
   ]
  },
  {
   "cell_type": "code",
   "execution_count": 6,
   "metadata": {},
   "outputs": [],
   "source": [
    "# Train/test split\n",
    "X = df.drop('more_engaged_1', axis=1)\n",
    "y = df.loc[:, 'more_engaged_1']\n",
    "\n",
    "X_train, X_test, y_train, y_test = train_test_split(X, y, random_state = 42)"
   ]
  },
  {
   "cell_type": "code",
   "execution_count": 7,
   "metadata": {},
   "outputs": [],
   "source": [
    "# Scale\n",
    "ssx = StandardScaler()\n",
    "X_train_scaled = ssx.fit_transform(X_train)\n",
    "X_test_scaled = ssx.transform(X_test)"
   ]
  },
  {
   "cell_type": "code",
   "execution_count": 8,
   "metadata": {},
   "outputs": [
    {
     "data": {
      "text/html": [
       "<div>\n",
       "<style scoped>\n",
       "    .dataframe tbody tr th:only-of-type {\n",
       "        vertical-align: middle;\n",
       "    }\n",
       "\n",
       "    .dataframe tbody tr th {\n",
       "        vertical-align: top;\n",
       "    }\n",
       "\n",
       "    .dataframe thead th {\n",
       "        text-align: right;\n",
       "    }\n",
       "</style>\n",
       "<table border=\"1\" class=\"dataframe\">\n",
       "  <thead>\n",
       "    <tr style=\"text-align: right;\">\n",
       "      <th></th>\n",
       "      <th>0</th>\n",
       "      <th>1</th>\n",
       "      <th>2</th>\n",
       "      <th>3</th>\n",
       "      <th>4</th>\n",
       "      <th>5</th>\n",
       "      <th>6</th>\n",
       "      <th>7</th>\n",
       "      <th>8</th>\n",
       "      <th>9</th>\n",
       "      <th>...</th>\n",
       "      <th>30</th>\n",
       "      <th>31</th>\n",
       "      <th>32</th>\n",
       "      <th>33</th>\n",
       "      <th>34</th>\n",
       "      <th>35</th>\n",
       "      <th>36</th>\n",
       "      <th>37</th>\n",
       "      <th>38</th>\n",
       "      <th>39</th>\n",
       "    </tr>\n",
       "  </thead>\n",
       "  <tbody>\n",
       "    <tr>\n",
       "      <th>0</th>\n",
       "      <td>-0.284735</td>\n",
       "      <td>1.510575</td>\n",
       "      <td>0.205803</td>\n",
       "      <td>-0.125498</td>\n",
       "      <td>0.701845</td>\n",
       "      <td>0.306709</td>\n",
       "      <td>-0.996213</td>\n",
       "      <td>-1.052605</td>\n",
       "      <td>0.308767</td>\n",
       "      <td>-0.709650</td>\n",
       "      <td>...</td>\n",
       "      <td>-0.224356</td>\n",
       "      <td>-0.123025</td>\n",
       "      <td>-0.418592</td>\n",
       "      <td>-0.352918</td>\n",
       "      <td>-0.056614</td>\n",
       "      <td>1.660120</td>\n",
       "      <td>-0.707954</td>\n",
       "      <td>-0.750798</td>\n",
       "      <td>-0.151248</td>\n",
       "      <td>-0.065407</td>\n",
       "    </tr>\n",
       "    <tr>\n",
       "      <th>1</th>\n",
       "      <td>-0.701193</td>\n",
       "      <td>-1.091094</td>\n",
       "      <td>-0.676612</td>\n",
       "      <td>-1.804968</td>\n",
       "      <td>0.701845</td>\n",
       "      <td>0.306709</td>\n",
       "      <td>-0.996213</td>\n",
       "      <td>1.172260</td>\n",
       "      <td>0.308767</td>\n",
       "      <td>-0.709650</td>\n",
       "      <td>...</td>\n",
       "      <td>-0.224356</td>\n",
       "      <td>-0.123025</td>\n",
       "      <td>2.388963</td>\n",
       "      <td>-0.352918</td>\n",
       "      <td>-0.056614</td>\n",
       "      <td>-0.602366</td>\n",
       "      <td>1.412521</td>\n",
       "      <td>-0.750798</td>\n",
       "      <td>-0.151248</td>\n",
       "      <td>-0.065407</td>\n",
       "    </tr>\n",
       "    <tr>\n",
       "      <th>2</th>\n",
       "      <td>-0.701193</td>\n",
       "      <td>-1.091094</td>\n",
       "      <td>0.205803</td>\n",
       "      <td>1.665936</td>\n",
       "      <td>-1.380407</td>\n",
       "      <td>0.306709</td>\n",
       "      <td>1.172932</td>\n",
       "      <td>1.172260</td>\n",
       "      <td>1.480209</td>\n",
       "      <td>-0.709650</td>\n",
       "      <td>...</td>\n",
       "      <td>-0.224356</td>\n",
       "      <td>-0.123025</td>\n",
       "      <td>-0.418592</td>\n",
       "      <td>2.833522</td>\n",
       "      <td>-0.056614</td>\n",
       "      <td>-0.602366</td>\n",
       "      <td>-0.707954</td>\n",
       "      <td>1.331917</td>\n",
       "      <td>-0.151248</td>\n",
       "      <td>-0.065407</td>\n",
       "    </tr>\n",
       "    <tr>\n",
       "      <th>3</th>\n",
       "      <td>-0.701193</td>\n",
       "      <td>0.469907</td>\n",
       "      <td>1.088218</td>\n",
       "      <td>-1.189162</td>\n",
       "      <td>0.701845</td>\n",
       "      <td>0.306709</td>\n",
       "      <td>1.172932</td>\n",
       "      <td>0.059827</td>\n",
       "      <td>-0.862675</td>\n",
       "      <td>1.409146</td>\n",
       "      <td>...</td>\n",
       "      <td>-0.224356</td>\n",
       "      <td>-0.123025</td>\n",
       "      <td>-0.418592</td>\n",
       "      <td>-0.352918</td>\n",
       "      <td>-0.056614</td>\n",
       "      <td>-0.602366</td>\n",
       "      <td>-0.707954</td>\n",
       "      <td>1.331917</td>\n",
       "      <td>-0.151248</td>\n",
       "      <td>-0.065407</td>\n",
       "    </tr>\n",
       "    <tr>\n",
       "      <th>4</th>\n",
       "      <td>0.548181</td>\n",
       "      <td>1.510575</td>\n",
       "      <td>-0.676612</td>\n",
       "      <td>-0.797286</td>\n",
       "      <td>0.701845</td>\n",
       "      <td>0.306709</td>\n",
       "      <td>-0.996213</td>\n",
       "      <td>1.172260</td>\n",
       "      <td>-0.862675</td>\n",
       "      <td>-0.709650</td>\n",
       "      <td>...</td>\n",
       "      <td>4.457204</td>\n",
       "      <td>-0.123025</td>\n",
       "      <td>-0.418592</td>\n",
       "      <td>-0.352918</td>\n",
       "      <td>-0.056614</td>\n",
       "      <td>-0.602366</td>\n",
       "      <td>1.412521</td>\n",
       "      <td>-0.750798</td>\n",
       "      <td>-0.151248</td>\n",
       "      <td>-0.065407</td>\n",
       "    </tr>\n",
       "  </tbody>\n",
       "</table>\n",
       "<p>5 rows × 40 columns</p>\n",
       "</div>"
      ],
      "text/plain": [
       "         0         1         2         3         4         5         6   \\\n",
       "0 -0.284735  1.510575  0.205803 -0.125498  0.701845  0.306709 -0.996213   \n",
       "1 -0.701193 -1.091094 -0.676612 -1.804968  0.701845  0.306709 -0.996213   \n",
       "2 -0.701193 -1.091094  0.205803  1.665936 -1.380407  0.306709  1.172932   \n",
       "3 -0.701193  0.469907  1.088218 -1.189162  0.701845  0.306709  1.172932   \n",
       "4  0.548181  1.510575 -0.676612 -0.797286  0.701845  0.306709 -0.996213   \n",
       "\n",
       "         7         8         9     ...           30        31        32  \\\n",
       "0 -1.052605  0.308767 -0.709650    ...    -0.224356 -0.123025 -0.418592   \n",
       "1  1.172260  0.308767 -0.709650    ...    -0.224356 -0.123025  2.388963   \n",
       "2  1.172260  1.480209 -0.709650    ...    -0.224356 -0.123025 -0.418592   \n",
       "3  0.059827 -0.862675  1.409146    ...    -0.224356 -0.123025 -0.418592   \n",
       "4  1.172260 -0.862675 -0.709650    ...     4.457204 -0.123025 -0.418592   \n",
       "\n",
       "         33        34        35        36        37        38        39  \n",
       "0 -0.352918 -0.056614  1.660120 -0.707954 -0.750798 -0.151248 -0.065407  \n",
       "1 -0.352918 -0.056614 -0.602366  1.412521 -0.750798 -0.151248 -0.065407  \n",
       "2  2.833522 -0.056614 -0.602366 -0.707954  1.331917 -0.151248 -0.065407  \n",
       "3 -0.352918 -0.056614 -0.602366 -0.707954  1.331917 -0.151248 -0.065407  \n",
       "4 -0.352918 -0.056614 -0.602366  1.412521 -0.750798 -0.151248 -0.065407  \n",
       "\n",
       "[5 rows x 40 columns]"
      ]
     },
     "execution_count": 8,
     "metadata": {},
     "output_type": "execute_result"
    }
   ],
   "source": [
    "X_train_scaled_df = pd.DataFrame(X_train_scaled)\n",
    "X_train_scaled_df.head()"
   ]
  },
  {
   "cell_type": "code",
   "execution_count": 9,
   "metadata": {},
   "outputs": [
    {
     "name": "stdout",
     "output_type": "stream",
     "text": [
      "The best accuracy on the test set (0.5857520764592103) comes from using a k of 14\n",
      "knn accuracy: 0.5857520764592103\n",
      "knn precision: 0.6174488389153627\n",
      "knn recall: 0.6579817027632562\n",
      "knn f1: 0.6367804942962679\n",
      "knn roc auc: 0.5981404921938903\n",
      "logreg accuracy: 0.6006371600864717\n",
      "logreg precision: 0.617773108800807\n",
      "logreg recall: 0.7234503360716953\n",
      "logreg f1: 0.6657025843785384\n",
      "logreg roc auc: 0.6180997501689249\n",
      "nb accuracy: 0.569214358857663\n",
      "nb precision: 0.6093164298803699\n",
      "nb recall: 0.6146004480955938\n",
      "nb f1: 0.6104128327827316\n",
      "nb roc auc: 0.5770394350794836\n",
      "svm accuracy: 0.5958613039026055\n",
      "svm precision: 0.6101115536658981\n",
      "svm recall: 0.7455937266616879\n",
      "svm f1: 0.6704439294579122\n",
      "svm roc auc: 0.624581799672819\n",
      "linear_svm accuracy: 0.6006286266924565\n",
      "linear_svm precision: 0.6186063845107348\n",
      "linear_svm recall: 0.7244025392083644\n",
      "linear_svm f1: 0.6668015199370055\n",
      "linear_svm roc auc: 0.617947828870159\n",
      "tree accuracy: 0.561232790988736\n",
      "tree precision: 0.594424731074642\n",
      "tree recall: 0.5809652725914861\n",
      "tree f1: 0.5838589335782276\n",
      "tree roc auc: 0.5424968437711157\n",
      "forest accuracy: 0.5627915576288542\n",
      "forest precision: 0.6200314708065752\n",
      "forest recall: 0.5528752800597461\n",
      "forest f1: 0.5555552236544268\n",
      "forest roc auc: 0.5864855613642022\n"
     ]
    }
   ],
   "source": [
    "knn_list = []\n",
    "for k in range(1, 21):\n",
    "    knn = KNeighborsClassifier(n_neighbors=k)\n",
    "    accuracy = cross_val_score(knn, X_train_scaled, y_train, cv=10).mean()\n",
    "    knn_list.append((accuracy, k))\n",
    "best = max(knn_list)\n",
    "print('The best accuracy on the test set (' + str(best[0]) + ') comes from using a k of ' + str(best[1]))\n",
    "\n",
    "names = ['knn', 'logreg', 'nb', 'svm', 'linear_svm', 'tree', 'forest']\n",
    "\n",
    "knn = KNeighborsClassifier(n_neighbors=best[1])\n",
    "logreg = LogisticRegression()\n",
    "nb = GaussianNB()\n",
    "svm = SVC()\n",
    "linear_svm = LinearSVC()\n",
    "tree = DecisionTreeClassifier()\n",
    "forest = RandomForestClassifier()\n",
    "\n",
    "model_list = [knn, logreg, nb, svm, linear_svm, tree, forest]\n",
    "\n",
    "for model, name in zip(model_list, names):\n",
    "    print(name + ' accuracy: ' + str(cross_val_score(model, X_train_scaled, y_train, cv = 10).mean()))\n",
    "    print(name + ' precision: ' + str(cross_val_score(model, X_train_scaled, y_train, cv = 10, scoring = 'precision').mean()))\n",
    "    print(name + ' recall: ' + str(cross_val_score(model, X_train_scaled, y_train, cv = 10, scoring='recall').mean()))\n",
    "    print(name + ' f1: ' + str(cross_val_score(model, X_train_scaled, y_train, cv = 10, scoring='f1').mean()))\n",
    "    print(name + ' roc auc: ' + str(cross_val_score(model, X_train_scaled, y_train, cv = 10, scoring='roc_auc').mean()))\n"
   ]
  },
  {
   "cell_type": "code",
   "execution_count": 10,
   "metadata": {},
   "outputs": [
    {
     "name": "stdout",
     "output_type": "stream",
     "text": [
      "logreg best score: 0.6022364217252396\n",
      "logreg best score parameters: {'C': 1.6681005372000558e-18, 'penalty': 'l2'}\n",
      "svm best score: 0.6080937167199149\n",
      "svm best score parameters: {'C': 0.398989898989899, 'kernel': 'rbf'}\n",
      "linear_svm best score: 0.6038338658146964\n",
      "linear_svm best score parameters: {'C': 0.0017000000000000001, 'penalty': 'l2'}\n"
     ]
    }
   ],
   "source": [
    "models = [\n",
    "    ( 'logreg' , LogisticRegression ),\n",
    "    ( 'svm' , SVC ),\n",
    "    ( 'linear_svm' , LinearSVC )\n",
    "]\n",
    "params = [\n",
    "    {'C' : np.logspace(-20, -16, 100),\n",
    "     'penalty' : ['l2']\n",
    "    },\n",
    "    {'C' : np.linspace(0.1, 0.5, 100),\n",
    "     'kernel' : ['rbf']#'linear', 'poly', ],\n",
    "     #'degree' : range(1,6)\n",
    "    },\n",
    "    {'C' : np.linspace(0.0001, 0.01, 100),\n",
    "     'penalty' : ['l2']\n",
    "    }\n",
    "]\n",
    "\n",
    "grid_dict = {}\n",
    "for model_tuple, param_set in zip(models, params):\n",
    "    name, model = model_tuple\n",
    "    grid = GridSearchCV(model(), param_set, n_jobs = -1)\n",
    "    grid.fit(X_train_scaled, y_train)\n",
    "    print(f'{name} best score: {grid.best_score_}')\n",
    "    print(f'{name} best score parameters: {grid.best_params_}')\n",
    "    grid_dict[name] = grid"
   ]
  },
  {
   "cell_type": "code",
   "execution_count": 27,
   "metadata": {},
   "outputs": [
    {
     "data": {
      "text/plain": [
       "<matplotlib.legend.Legend at 0x1a1ba11a90>"
      ]
     },
     "execution_count": 27,
     "metadata": {},
     "output_type": "execute_result"
    },
    {
     "data": {
      "image/png": "[encoded data removed]",
      "text/plain": [
       "<Figure size 432x288 with 1 Axes>"
      ]
     },
     "metadata": {},
     "output_type": "display_data"
    }
   ],
   "source": [
    "train_sizes, train_scores, test_scores = learning_curve(grid_dict['svm'], X_train_scaled, y_train)\n",
    "\n",
    "ave_train_scores = train_scores.mean(axis=1)\n",
    "ave_test_scores = test_scores.mean(axis=1)\n",
    "learn_df = pd.DataFrame({\n",
    "    'train_size': train_sizes,\n",
    "    'train_score': ave_train_scores,\n",
    "    'test_score': ave_test_scores\n",
    "})\n",
    "\n",
    "plt.plot(learn_df['train_size'], learn_df['train_score'], 'r--o', label= 'train scores')\n",
    "plt.plot(learn_df['train_size'], learn_df['test_score'], 'b--x', label= 'test scores')\n",
    "plt.xlabel('# rows of training data')\n",
    "plt.ylabel('Accuracy')\n",
    "plt.title('Learning Curve')\n",
    "plt.legend(loc='lower right')"
   ]
  },
  {
   "cell_type": "code",
   "execution_count": 16,
   "metadata": {},
   "outputs": [
    {
     "ename": "AttributeError",
     "evalue": "module 'matplotlib.pyplot' has no attribute 'set_xlabel'",
     "output_type": "error",
     "traceback": [
      "\u001b[0;31m---------------------------------------------------------------------------\u001b[0m",
      "\u001b[0;31mAttributeError\u001b[0m                            Traceback (most recent call last)",
      "\u001b[0;32m<ipython-input-16-47c2ee5e57a3>\u001b[0m in \u001b[0;36m<module>\u001b[0;34m()\u001b[0m\n\u001b[1;32m     16\u001b[0m     \u001b[0mplt\u001b[0m\u001b[0;34m.\u001b[0m\u001b[0mplot\u001b[0m\u001b[0;34m(\u001b[0m\u001b[0mlearn_df\u001b[0m\u001b[0;34m[\u001b[0m\u001b[0;34m'train_size'\u001b[0m\u001b[0;34m]\u001b[0m\u001b[0;34m,\u001b[0m \u001b[0mlearn_df\u001b[0m\u001b[0;34m[\u001b[0m\u001b[0;34m'train_score'\u001b[0m\u001b[0;34m]\u001b[0m\u001b[0;34m,\u001b[0m \u001b[0;34mf'r--{model_shape[1]}'\u001b[0m\u001b[0;34m,\u001b[0m \u001b[0mlabel\u001b[0m\u001b[0;34m=\u001b[0m \u001b[0;34mf'{model_shape[0]} train scores'\u001b[0m\u001b[0;34m)\u001b[0m\u001b[0;34m\u001b[0m\u001b[0m\n\u001b[1;32m     17\u001b[0m     \u001b[0mplt\u001b[0m\u001b[0;34m.\u001b[0m\u001b[0mplot\u001b[0m\u001b[0;34m(\u001b[0m\u001b[0mlearn_df\u001b[0m\u001b[0;34m[\u001b[0m\u001b[0;34m'train_size'\u001b[0m\u001b[0;34m]\u001b[0m\u001b[0;34m,\u001b[0m \u001b[0mlearn_df\u001b[0m\u001b[0;34m[\u001b[0m\u001b[0;34m'test_score'\u001b[0m\u001b[0;34m]\u001b[0m\u001b[0;34m,\u001b[0m \u001b[0;34mf'b--{model_shape[1]}'\u001b[0m\u001b[0;34m,\u001b[0m \u001b[0mlabel\u001b[0m\u001b[0;34m=\u001b[0m \u001b[0;34mf'{model_shape[0]} test scores'\u001b[0m\u001b[0;34m)\u001b[0m\u001b[0;34m\u001b[0m\u001b[0m\n\u001b[0;32m---> 18\u001b[0;31m     \u001b[0mplt\u001b[0m\u001b[0;34m.\u001b[0m\u001b[0mset_xlabel\u001b[0m\u001b[0;34m(\u001b[0m\u001b[0;34m'# rows of training data'\u001b[0m\u001b[0;34m)\u001b[0m\u001b[0;34m\u001b[0m\u001b[0m\n\u001b[0m\u001b[1;32m     19\u001b[0m     \u001b[0mplt\u001b[0m\u001b[0;34m.\u001b[0m\u001b[0mset_label\u001b[0m\u001b[0;34m(\u001b[0m\u001b[0;34m'Accuracy'\u001b[0m\u001b[0;34m)\u001b[0m\u001b[0;34m\u001b[0m\u001b[0m\n\u001b[1;32m     20\u001b[0m     \u001b[0mplt\u001b[0m\u001b[0;34m.\u001b[0m\u001b[0mset_title\u001b[0m\u001b[0;34m(\u001b[0m\u001b[0;34m'Learning Curves'\u001b[0m\u001b[0;34m)\u001b[0m\u001b[0;34m\u001b[0m\u001b[0m\n",
      "\u001b[0;31mAttributeError\u001b[0m: module 'matplotlib.pyplot' has no attribute 'set_xlabel'"
     ]
    },
    {
     "data": {
      "image/png": "[encoded data removed]",
      "text/plain": [
       "<Figure size 432x288 with 1 Axes>"
      ]
     },
     "metadata": {},
     "output_type": "display_data"
    }
   ],
   "source": [
    "model_names_shapes = [('logreg', 'o'), ('svm', 'x')]#, ('linear_svm', '^')]\n",
    "\n",
    "\n",
    "for model_shape in model_names_shapes:\n",
    "\n",
    "    train_sizes, train_scores, test_scores = learning_curve(grid_dict[model_shape[0]], X_train_scaled, y_train)\n",
    "\n",
    "    ave_train_scores = train_scores.mean(axis=1)\n",
    "    ave_test_scores = test_scores.mean(axis=1)\n",
    "    learn_df = pd.DataFrame({\n",
    "        'train_size': train_sizes,\n",
    "        'train_score': ave_train_scores,\n",
    "        'test_score': ave_test_scores\n",
    "    })\n",
    "\n",
    "    plt.plot(learn_df['train_size'], learn_df['train_score'], f'r--{model_shape[1]}', label= f'{model_shape[0]} train scores')\n",
    "    plt.plot(learn_df['train_size'], learn_df['test_score'], f'b--{model_shape[1]}', label= f'{model_shape[0]} test scores')\n",
    "    plt.xlabel('# rows of training data')\n",
    "    plt.ylabel('Accuracy')\n",
    "    plt.title('Learning Curves')\n",
    "    plt.legend(loc='upper left')"
   ]
  },
  {
   "cell_type": "code",
   "execution_count": 96,
   "metadata": {},
   "outputs": [
    {
     "data": {
      "text/plain": [
       "dict_keys(['logreg', 'svm', 'linear_svm'])"
      ]
     },
     "execution_count": 96,
     "metadata": {},
     "output_type": "execute_result"
    }
   ],
   "source": [
    "grid_dict.keys()"
   ]
  },
  {
   "cell_type": "code",
   "execution_count": 104,
   "metadata": {},
   "outputs": [
    {
     "name": "stdout",
     "output_type": "stream",
     "text": [
      "retired           2.102021e-16\n",
      "employed          1.932603e-16\n",
      "econ_ineq         1.922746e-16\n",
      "sex_1             1.846343e-16\n",
      "econ_unf_1        1.829419e-16\n",
      "age               1.755157e-16\n",
      "independent       1.693698e-16\n",
      "democrat          1.648649e-16\n",
      "oftvote           1.373535e-16\n",
      "int_con_1         1.218482e-16\n",
      "clear_sol_1       8.091502e-17\n",
      "local_1           7.108489e-17\n",
      "educ              6.935499e-17\n",
      "pol_comp_1        6.866575e-17\n",
      "party_none        6.551048e-17\n",
      "sav               6.236285e-17\n",
      "glob_econ_1       6.219016e-17\n",
      "native            5.524798e-17\n",
      "christian         4.526646e-17\n",
      "race_other        4.101192e-17\n",
      "relig_Other       3.718560e-17\n",
      "unitarian         3.381616e-17\n",
      "protestant        3.207312e-17\n",
      "mormon            2.872247e-17\n",
      "wlack             2.504312e-17\n",
      "republican        2.442258e-17\n",
      "white             2.223152e-17\n",
      "student           2.221311e-17\n",
      "hindu             1.786602e-17\n",
      "jewish            1.747181e-17\n",
      "income            1.429302e-17\n",
      "muslim            1.120083e-17\n",
      "atheist           1.032332e-17\n",
      "roman Catholic    9.561979e-18\n",
      "buddhist          9.497633e-18\n",
      "asian             8.712163e-18\n",
      "agnostic          5.312531e-18\n",
      "nothing           5.147044e-18\n",
      "orth Chr          3.858492e-18\n",
      "party_other       3.858492e-18\n",
      "dtype: float64\n"
     ]
    }
   ],
   "source": [
    "# Let's look at feature importance\n",
    "\n",
    "logreg_imp_dict = {}\n",
    "for feature, coef in zip(X.columns, grid_dict['logreg'].best_estimator_.coef_[0]):\n",
    "    logreg_imp_dict[feature] = coef\n",
    "logreg_imp_df = pd.Series(logreg_imp_dict)\n",
    "logreg_order = logreg_imp_df.abs().sort_values(ascending = False)\n",
    "\n",
    "print(logreg_order)"
   ]
  },
  {
   "cell_type": "code",
   "execution_count": 106,
   "metadata": {},
   "outputs": [
    {
     "name": "stdout",
     "output_type": "stream",
     "text": [
      "white             0.153996\n",
      "independent       0.129475\n",
      "wlack             0.098876\n",
      "native            0.091603\n",
      "econ_unf_1        0.081959\n",
      "nothing           0.081481\n",
      "protestant        0.080751\n",
      "econ_ineq         0.075390\n",
      "retired           0.070357\n",
      "sex_1             0.064445\n",
      "roman Catholic    0.060674\n",
      "local_1           0.059179\n",
      "employed          0.056962\n",
      "party_none        0.055258\n",
      "christian         0.048770\n",
      "democrat          0.048119\n",
      "glob_econ_1       0.047928\n",
      "relig_Other       0.046361\n",
      "muslim            0.044362\n",
      "asian             0.040593\n",
      "agnostic          0.040146\n",
      "int_con_1         0.039347\n",
      "clear_sol_1       0.038628\n",
      "orth Chr          0.034647\n",
      "race_other        0.031307\n",
      "atheist           0.030395\n",
      "educ              0.028549\n",
      "hindu             0.028046\n",
      "mormon            0.023898\n",
      "oftvote           0.022631\n",
      "age               0.019897\n",
      "unitarian         0.017540\n",
      "republican        0.015219\n",
      "sav               0.013928\n",
      "party_other       0.013432\n",
      "jewish            0.009049\n",
      "income            0.008629\n",
      "student           0.003786\n",
      "buddhist          0.002570\n",
      "pol_comp_1        0.000763\n",
      "dtype: float64\n"
     ]
    }
   ],
   "source": [
    "linear_svm_imp_dict = {}\n",
    "\n",
    "for feature, coef in zip(X.columns, grid_dict['linear_svm'].best_estimator_.coef_[0]):\n",
    "        linear_svm_imp_dict[feature] = coef\n",
    "linear_svm_imp_df = pd.Series(linear_svm_imp_dict)\n",
    "linear_svm_order = linear_svm_imp_df.abs().sort_values(ascending = False)\n",
    "print(linear_svm_order)"
   ]
  },
  {
   "cell_type": "code",
   "execution_count": 108,
   "metadata": {},
   "outputs": [
    {
     "name": "stdout",
     "output_type": "stream",
     "text": [
      "age               0.161782\n",
      "income            0.097477\n",
      "educ              0.076881\n",
      "econ_ineq         0.054930\n",
      "oftvote           0.053229\n",
      "sav               0.047151\n",
      "employed          0.039189\n",
      "sex_1             0.036291\n",
      "clear_sol_1       0.033255\n",
      "int_con_1         0.027903\n",
      "pol_comp_1        0.027134\n",
      "local_1           0.026811\n",
      "glob_econ_1       0.025625\n",
      "retired           0.024412\n",
      "protestant        0.023715\n",
      "econ_unf_1        0.022335\n",
      "independent       0.020542\n",
      "white             0.020184\n",
      "republican        0.018253\n",
      "student           0.017544\n",
      "roman Catholic    0.016985\n",
      "christian         0.016391\n",
      "nothing           0.015892\n",
      "democrat          0.015794\n",
      "native            0.009397\n",
      "wlack             0.008799\n",
      "agnostic          0.008018\n",
      "atheist           0.007564\n",
      "race_other        0.006822\n",
      "party_none        0.006479\n",
      "asian             0.006250\n",
      "mormon            0.005626\n",
      "jewish            0.004821\n",
      "relig_Other       0.003630\n",
      "muslim            0.003371\n",
      "party_other       0.002352\n",
      "orth Chr          0.002119\n",
      "buddhist          0.002066\n",
      "unitarian         0.001517\n",
      "hindu             0.001462\n",
      "dtype: float64\n"
     ]
    }
   ],
   "source": [
    "forest_importance_dict = {}\n",
    "forest.fit(X_train_scaled, y_train)\n",
    "for feature, importance in zip(X.columns, forest.feature_importances_):\n",
    "    forest_importance_dict[feature] = importance\n",
    "forest_importance_df = pd.Series(forest_importance_dict)\n",
    "forest_order = forest_importance_df.sort_values(ascending = False)\n",
    "\n",
    "print(forest_order)"
   ]
  },
  {
   "cell_type": "code",
   "execution_count": 21,
   "metadata": {},
   "outputs": [
    {
     "name": "stdout",
     "output_type": "stream",
     "text": [
      "Accuracy: 0.6081010353851404\n",
      "Precision: 0.6118109116643045\n",
      "Recall: 0.7966486183719192\n",
      "F1: 0.6916142573313733\n",
      "ROC AUC: 0.6342247457235322\n"
     ]
    }
   ],
   "source": [
    "best_grid = grid_dict['svm']\n",
    "best_model = best_grid.best_estimator_\n",
    "print('Accuracy: ' + str(cross_val_score(best_model, X_train_scaled, y_train, cv = 10).mean()))\n",
    "print('Precision: ' + str(cross_val_score(best_model, X_train_scaled, y_train, cv = 10, scoring = 'precision').mean()))\n",
    "print('Recall: ' + str(cross_val_score(best_model, X_train_scaled, y_train, cv = 10, scoring='recall').mean()))\n",
    "print('F1: ' + str(cross_val_score(best_model, X_train_scaled, y_train, cv = 10, scoring='f1').mean()))\n",
    "print('ROC AUC: ' + str(cross_val_score(best_model, X_train_scaled, y_train, cv = 10, scoring='roc_auc').mean()))\n"
   ]
  },
  {
   "cell_type": "code",
   "execution_count": 22,
   "metadata": {},
   "outputs": [
    {
     "name": "stdout",
     "output_type": "stream",
     "text": [
      "Accuracy: 0.5598086124401914\n",
      "             precision    recall  f1-score   support\n",
      "\n",
      "          0       0.60      0.40      0.48       318\n",
      "          1       0.54      0.72      0.62       309\n",
      "\n",
      "avg / total       0.57      0.56      0.55       627\n",
      "\n"
     ]
    }
   ],
   "source": [
    "y_pred = best_model.predict(X_test_scaled)\n",
    "print('Accuracy: ' + str(accuracy_score(y_test, y_pred)))\n",
    "#print('ROC AUC: ' + ro\n",
    "print(classification_report(y_test, y_pred))"
   ]
  },
  {
   "cell_type": "code",
   "execution_count": 23,
   "metadata": {},
   "outputs": [],
   "source": [
    "# Helper function for printing confusion matrices (see: https://gist.github.com/shaypal5/94c53d765083101efc0240d776a23823)\n",
    "def print_confusion_matrix(confusion_matrix, class_names, figsize = (10,7), fontsize=18):\n",
    "    \"\"\"Prints a confusion matrix, as returned by sklearn.metrics.confusion_matrix, as a heatmap.\n",
    "    \n",
    "    Arguments\n",
    "    ---------\n",
    "    confusion_matrix: numpy.ndarray\n",
    "        The numpy.ndarray object returned from a call to sklearn.metrics.confusion_matrix. \n",
    "        Similarly constructed ndarrays can also be used.\n",
    "    class_names: list\n",
    "        An ordered list of class names, in the order they index the given confusion matrix.\n",
    "    figsize: tuple\n",
    "        A 2-long tuple, the first value determining the horizontal size of the ouputted figure,\n",
    "        the second determining the vertical size. Defaults to (10,7).\n",
    "    fontsize: int\n",
    "        Font size for axes labels. Defaults to 14.\n",
    "        \n",
    "    Returns\n",
    "    -------\n",
    "    matplotlib.figure.Figure\n",
    "        The resulting confusion matrix figure\n",
    "    \"\"\"\n",
    "    df_cm = pd.DataFrame(\n",
    "        confusion_matrix, index=class_names, columns=class_names, \n",
    "    )\n",
    "    fig = plt.figure(figsize=figsize)\n",
    "    try:\n",
    "        heatmap = sns.heatmap(df_cm, annot=True, fmt=\"d\")\n",
    "    except ValueError:\n",
    "        raise ValueError(\"Confusion matrix values must be integers.\")\n",
    "    heatmap.yaxis.set_ticklabels(heatmap.yaxis.get_ticklabels(), rotation=0, ha='right', fontsize=fontsize)\n",
    "    heatmap.xaxis.set_ticklabels(heatmap.xaxis.get_ticklabels(), rotation=0, ha='right', fontsize=fontsize)\n",
    "    plt.ylabel('True label')\n",
    "    plt.xlabel('Predicted label')\n",
    "    return fig"
   ]
  },
  {
   "cell_type": "code",
   "execution_count": 24,
   "metadata": {},
   "outputs": [
    {
     "data": {
      "image/png": "[encoded data removed]",
      "text/plain": [
       "<Figure size 720x504 with 2 Axes>"
      ]
     },
     "execution_count": 24,
     "metadata": {},
     "output_type": "execute_result"
    },
    {
     "data": {
      "image/png": "[encoded data removed]",
      "text/plain": [
       "<Figure size 720x504 with 2 Axes>"
      ]
     },
     "metadata": {},
     "output_type": "display_data"
    }
   ],
   "source": [
    "conf_mat = confusion_matrix(y_true=y_test, y_pred=y_pred)\n",
    "print_confusion_matrix(conf_mat, ['Not','Engaged'])"
   ]
  },
  {
   "cell_type": "code",
   "execution_count": 15,
   "metadata": {
    "scrolled": true
   },
   "outputs": [
    {
     "data": {
      "text/plain": [
       "Pipeline(memory=None,\n",
       "     steps=[('scaler', StandardScaler(copy=True, with_mean=True, with_std=True)), ('svm', SVC(C=0.3, cache_size=200, class_weight=None, coef0=0.0,\n",
       "  decision_function_shape='ovr', degree=3, gamma='auto', kernel='rbf',\n",
       "  max_iter=-1, probability=True, random_state=None, shrinking=True,\n",
       "  tol=0.001, verbose=False))])"
      ]
     },
     "execution_count": 15,
     "metadata": {},
     "output_type": "execute_result"
    }
   ],
   "source": [
    "#Retrain model on all data and save for export, using pipeline to incorporate scaling\n",
    "from sklearn.pipeline import Pipeline\n",
    "\n",
    "pipeline = Pipeline([('scaler', StandardScaler()),\n",
    "                     ('svm', SVC(**grid_dict['svm'].best_params_, probability=True))])\n",
    "pipeline.fit(X,y)"
   ]
  },
  {
   "cell_type": "code",
   "execution_count": 16,
   "metadata": {
    "ExecuteTime": {
     "end_time": "2018-08-02T16:55:10.985629Z",
     "start_time": "2018-08-02T16:55:10.979473Z"
    }
   },
   "outputs": [],
   "source": [
    "import pickle\n",
    "\n",
    "pickle.dump(pipeline, open('model.pkl', 'wb'))"
   ]
  },
  {
   "cell_type": "code",
   "execution_count": 19,
   "metadata": {
    "ExecuteTime": {
     "end_time": "2018-08-02T16:55:50.714384Z",
     "start_time": "2018-08-02T16:55:50.703782Z"
    },
    "scrolled": true
   },
   "outputs": [
    {
     "data": {
      "text/plain": [
       "{'income': 1.0,\n",
       " 'educ': 1.0,\n",
       " 'oftvote': 1.0,\n",
       " 'age': 50,\n",
       " 'retired': 1.0,\n",
       " 'student': 1.0,\n",
       " 'employed': 1.0,\n",
       " 'sav': 1.0,\n",
       " 'econ_ineq': 1.0,\n",
       " 'int_con_1': 1.0,\n",
       " 'local_1': 1.0,\n",
       " 'glob_econ_1': 1.0,\n",
       " 'econ_unf_1': 1.0,\n",
       " 'pol_comp_1': 1.0,\n",
       " 'clear_sol_1': 1.0,\n",
       " 'sex_1': 1.0,\n",
       " 'white': 1.0,\n",
       " 'wlack': 1.0,\n",
       " 'asian': 1.0,\n",
       " 'race_other': 1.0,\n",
       " 'native': 1.0,\n",
       " 'protestant': 1.0,\n",
       " 'roman Catholic': 1.0,\n",
       " 'mormon': 1.0,\n",
       " 'orth Chr': 1.0,\n",
       " 'jewish': 1.0,\n",
       " 'muslim': 1.0,\n",
       " 'buddhist': 1.0,\n",
       " 'hindu': 1.0,\n",
       " 'atheist': 1.0,\n",
       " 'agnostic': 1.0,\n",
       " 'relig_Other': 1.0,\n",
       " 'nothing': 1.0,\n",
       " 'christian': 1.0,\n",
       " 'unitarian': 1.0,\n",
       " 'republican': 1.0,\n",
       " 'democrat': 1.0,\n",
       " 'independent': 1.0,\n",
       " 'party_none': 1.0,\n",
       " 'party_other': 1.0}"
      ]
     },
     "execution_count": 19,
     "metadata": {},
     "output_type": "execute_result"
    }
   ],
   "source": [
    "example_values = np.ones(len(X.columns))\n",
    "columns = list(X.columns)\n",
    "zipped = zip(columns, example_values)\n",
    "example = dict(zipped)\n",
    "example['age'] = 50\n",
    "example"
   ]
  },
  {
   "cell_type": "code",
   "execution_count": 29,
   "metadata": {},
   "outputs": [
    {
     "data": {
      "text/plain": [
       "numpy.ndarray"
      ]
     },
     "execution_count": 29,
     "metadata": {},
     "output_type": "execute_result"
    }
   ],
   "source": [
    "X  = np.array([example[key] for key in example.keys()]).reshape(1, -1)\n",
    "type(X)"
   ]
  },
  {
   "cell_type": "code",
   "execution_count": 20,
   "metadata": {},
   "outputs": [],
   "source": [
    "def make_prediction(features):\n",
    "    X = np.array([features[column] for column in columns]).reshape(1,-1)\n",
    "    prob_engaged = pipeline.predict_proba(X)[0, 1]\n",
    "    \n",
    "    result = {\n",
    "        'prediction': int(prob_engaged > 0.5),\n",
    "        'prob_engaged': prob_engaged\n",
    "    }\n",
    "    return result"
   ]
  },
  {
   "cell_type": "code",
   "execution_count": 21,
   "metadata": {
    "ExecuteTime": {
     "end_time": "2018-08-02T16:55:51.278586Z",
     "start_time": "2018-08-02T16:55:51.267710Z"
    }
   },
   "outputs": [
    {
     "data": {
      "text/plain": [
       "{'prediction': 1, 'prob_engaged': 0.5699887940835925}"
      ]
     },
     "execution_count": 21,
     "metadata": {},
     "output_type": "execute_result"
    }
   ],
   "source": [
    "make_prediction(example)"
   ]
  }
 ],
 "metadata": {
  "kernelspec": {
   "display_name": "Python 3",
   "language": "python",
   "name": "python3"
  },
  "language_info": {
   "codemirror_mode": {
    "name": "ipython",
    "version": 3
   },
   "file_extension": ".py",
   "mimetype": "text/x-python",
   "name": "python",
   "nbconvert_exporter": "python",
   "pygments_lexer": "ipython3",
   "version": "3.6.5"
  }
 },
 "nbformat": 4,
 "nbformat_minor": 2
}
